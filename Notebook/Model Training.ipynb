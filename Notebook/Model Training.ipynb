{
 "cells": [
  {
   "cell_type": "markdown",
   "metadata": {},
   "source": [
    "# import packages and modules"
   ]
  },
  {
   "cell_type": "code",
   "execution_count": 18,
   "metadata": {},
   "outputs": [
    {
     "name": "stdout",
     "output_type": "stream",
     "text": [
      "Requirement already satisfied: xgboost in e:\\github\\ml_generic_full _project\\machine_learning_generic_project\\venv\\lib\\site-packages (1.7.6)\n",
      "Requirement already satisfied: scipy in e:\\github\\ml_generic_full _project\\machine_learning_generic_project\\venv\\lib\\site-packages (from xgboost) (1.11.1)\n",
      "Requirement already satisfied: numpy in e:\\github\\ml_generic_full _project\\machine_learning_generic_project\\venv\\lib\\site-packages (from xgboost) (1.25.1)\n",
      "Note: you may need to restart the kernel to use updated packages.\n"
     ]
    },
    {
     "name": "stderr",
     "output_type": "stream",
     "text": [
      "\n",
      "[notice] A new release of pip available: 22.2.1 -> 23.2.1\n",
      "[notice] To update, run: python.exe -m pip install --upgrade pip\n"
     ]
    }
   ],
   "source": [
    "pip install xgboost\n"
   ]
  },
  {
   "cell_type": "code",
   "execution_count": 19,
   "metadata": {},
   "outputs": [],
   "source": [
    "import numpy as np\n",
    "import pandas as pd\n",
    "import matplotlib.pyplot as plt\n",
    "import seaborn as sns\n",
    "from sklearn.metrics import r2_score, mean_squared_error , mean_absolute_error\n",
    "from sklearn.neighbors import KNeighborsRegressor\n",
    "from sklearn.tree import DecisionTreeRegressor\n",
    "from sklearn.ensemble import AdaBoostRegressor,RandomForestRegressor\n",
    "from sklearn.svm import SVR\n",
    "from sklearn.linear_model import LinearRegression , Ridge,Lasso\n",
    "from sklearn.model_selection import RandomizedSearchCV\n",
    "from catboost import CatBoostRegressor\n",
    "from xgboost import XGBRegressor\n",
    "import warnings\n",
    "warnings.filterwarnings(\"ignore\")\n",
    "\n"
   ]
  },
  {
   "cell_type": "code",
   "execution_count": 20,
   "metadata": {},
   "outputs": [],
   "source": [
    "# Import data into dataframe\n",
    "\n",
    "df = pd.read_csv('data/StudentsPerformance.csv')"
   ]
  },
  {
   "cell_type": "code",
   "execution_count": 21,
   "metadata": {},
   "outputs": [
    {
     "data": {
      "text/html": [
       "<div>\n",
       "<style scoped>\n",
       "    .dataframe tbody tr th:only-of-type {\n",
       "        vertical-align: middle;\n",
       "    }\n",
       "\n",
       "    .dataframe tbody tr th {\n",
       "        vertical-align: top;\n",
       "    }\n",
       "\n",
       "    .dataframe thead th {\n",
       "        text-align: right;\n",
       "    }\n",
       "</style>\n",
       "<table border=\"1\" class=\"dataframe\">\n",
       "  <thead>\n",
       "    <tr style=\"text-align: right;\">\n",
       "      <th></th>\n",
       "      <th>gender</th>\n",
       "      <th>race/ethnicity</th>\n",
       "      <th>parental level of education</th>\n",
       "      <th>lunch</th>\n",
       "      <th>test preparation course</th>\n",
       "      <th>math score</th>\n",
       "      <th>reading score</th>\n",
       "      <th>writing score</th>\n",
       "    </tr>\n",
       "  </thead>\n",
       "  <tbody>\n",
       "    <tr>\n",
       "      <th>0</th>\n",
       "      <td>female</td>\n",
       "      <td>group B</td>\n",
       "      <td>bachelor's degree</td>\n",
       "      <td>standard</td>\n",
       "      <td>none</td>\n",
       "      <td>72</td>\n",
       "      <td>72</td>\n",
       "      <td>74</td>\n",
       "    </tr>\n",
       "    <tr>\n",
       "      <th>1</th>\n",
       "      <td>female</td>\n",
       "      <td>group C</td>\n",
       "      <td>some college</td>\n",
       "      <td>standard</td>\n",
       "      <td>completed</td>\n",
       "      <td>69</td>\n",
       "      <td>90</td>\n",
       "      <td>88</td>\n",
       "    </tr>\n",
       "    <tr>\n",
       "      <th>2</th>\n",
       "      <td>female</td>\n",
       "      <td>group B</td>\n",
       "      <td>master's degree</td>\n",
       "      <td>standard</td>\n",
       "      <td>none</td>\n",
       "      <td>90</td>\n",
       "      <td>95</td>\n",
       "      <td>93</td>\n",
       "    </tr>\n",
       "    <tr>\n",
       "      <th>3</th>\n",
       "      <td>male</td>\n",
       "      <td>group A</td>\n",
       "      <td>associate's degree</td>\n",
       "      <td>free/reduced</td>\n",
       "      <td>none</td>\n",
       "      <td>47</td>\n",
       "      <td>57</td>\n",
       "      <td>44</td>\n",
       "    </tr>\n",
       "    <tr>\n",
       "      <th>4</th>\n",
       "      <td>male</td>\n",
       "      <td>group C</td>\n",
       "      <td>some college</td>\n",
       "      <td>standard</td>\n",
       "      <td>none</td>\n",
       "      <td>76</td>\n",
       "      <td>78</td>\n",
       "      <td>75</td>\n",
       "    </tr>\n",
       "    <tr>\n",
       "      <th>5</th>\n",
       "      <td>female</td>\n",
       "      <td>group B</td>\n",
       "      <td>associate's degree</td>\n",
       "      <td>standard</td>\n",
       "      <td>none</td>\n",
       "      <td>71</td>\n",
       "      <td>83</td>\n",
       "      <td>78</td>\n",
       "    </tr>\n",
       "    <tr>\n",
       "      <th>6</th>\n",
       "      <td>female</td>\n",
       "      <td>group B</td>\n",
       "      <td>some college</td>\n",
       "      <td>standard</td>\n",
       "      <td>completed</td>\n",
       "      <td>88</td>\n",
       "      <td>95</td>\n",
       "      <td>92</td>\n",
       "    </tr>\n",
       "    <tr>\n",
       "      <th>7</th>\n",
       "      <td>male</td>\n",
       "      <td>group B</td>\n",
       "      <td>some college</td>\n",
       "      <td>free/reduced</td>\n",
       "      <td>none</td>\n",
       "      <td>40</td>\n",
       "      <td>43</td>\n",
       "      <td>39</td>\n",
       "    </tr>\n",
       "    <tr>\n",
       "      <th>8</th>\n",
       "      <td>male</td>\n",
       "      <td>group D</td>\n",
       "      <td>high school</td>\n",
       "      <td>free/reduced</td>\n",
       "      <td>completed</td>\n",
       "      <td>64</td>\n",
       "      <td>64</td>\n",
       "      <td>67</td>\n",
       "    </tr>\n",
       "    <tr>\n",
       "      <th>9</th>\n",
       "      <td>female</td>\n",
       "      <td>group B</td>\n",
       "      <td>high school</td>\n",
       "      <td>free/reduced</td>\n",
       "      <td>none</td>\n",
       "      <td>38</td>\n",
       "      <td>60</td>\n",
       "      <td>50</td>\n",
       "    </tr>\n",
       "  </tbody>\n",
       "</table>\n",
       "</div>"
      ],
      "text/plain": [
       "   gender race/ethnicity  ... reading score writing score\n",
       "0  female        group B  ...            72            74\n",
       "1  female        group C  ...            90            88\n",
       "2  female        group B  ...            95            93\n",
       "3    male        group A  ...            57            44\n",
       "4    male        group C  ...            78            75\n",
       "5  female        group B  ...            83            78\n",
       "6  female        group B  ...            95            92\n",
       "7    male        group B  ...            43            39\n",
       "8    male        group D  ...            64            67\n",
       "9  female        group B  ...            60            50\n",
       "\n",
       "[10 rows x 8 columns]"
      ]
     },
     "execution_count": 21,
     "metadata": {},
     "output_type": "execute_result"
    }
   ],
   "source": [
    "# show the top 10 record\n",
    "\n",
    "df.head(10)"
   ]
  },
  {
   "cell_type": "code",
   "execution_count": 22,
   "metadata": {},
   "outputs": [
    {
     "name": "stdout",
     "output_type": "stream",
     "text": [
      "Categories under 'Gender' Variable:        ['female' 'male']\n",
      "Categories under 'Parental Level Eduation' Variable:        [\"bachelor's degree\" 'some college' \"master's degree\" \"associate's degree\"\n",
      " 'high school' 'some high school']\n",
      "Categories under 'race_ethnicity' Variable:        ['group B' 'group C' 'group A' 'group D' 'group E']\n",
      "Categories under 'lunch' Variable:        ['standard' 'free/reduced']\n",
      "Categories under 'test_prep_course' Variable:        ['none' 'completed']\n"
     ]
    }
   ],
   "source": [
    "# printing out the unique values in each of the columns\n",
    "\n",
    "print(\"Categories under 'Gender' Variable:        \",end=\"\")\n",
    "print(df['gender'].unique())\n",
    "\n",
    "print(\"Categories under 'Parental Level Eduation' Variable:        \",end=\"\")\n",
    "print(df['parental level of education'].unique())\n",
    "\n",
    "print(\"Categories under 'race_ethnicity' Variable:        \",end=\"\")\n",
    "print(df['race/ethnicity'].unique())\n",
    "\n",
    "print(\"Categories under 'lunch' Variable:        \",end=\"\")\n",
    "print(df['lunch'].unique())\n",
    "\n",
    "print(\"Categories under 'test_prep_course' Variable:        \",end=\"\")\n",
    "print(df['test preparation course'].unique())"
   ]
  },
  {
   "cell_type": "code",
   "execution_count": 23,
   "metadata": {},
   "outputs": [],
   "source": [
    "# Preparing the X and Y variable\n",
    "X = df.drop(['math score'], axis=1) #independent variables\n",
    "Y = df['math score']"
   ]
  },
  {
   "cell_type": "code",
   "execution_count": 24,
   "metadata": {},
   "outputs": [],
   "source": [
    "# creating column with 3 types of transformers\n",
    "\n",
    "num_features = X.select_dtypes(exclude=\"object\").columns\n",
    "cat_features = X.select_dtypes(include=\"object\").columns\n",
    "\n",
    "from sklearn.preprocessing import StandardScaler,OneHotEncoder\n",
    "from sklearn.compose import ColumnTransformer\n",
    "\n",
    "numeric_transformer = StandardScaler()\n",
    "cat_transformer = OneHotEncoder()\n",
    "\n",
    "preprocessor = ColumnTransformer(\n",
    "    [ (\"Onehotencoder\",cat_transformer,cat_features),\n",
    "     ('Standardscaler', numeric_transformer, num_features)])\n",
    "\n",
    " "
   ]
  },
  {
   "cell_type": "code",
   "execution_count": 25,
   "metadata": {},
   "outputs": [],
   "source": [
    "X = preprocessor.fit_transform(X)\n"
   ]
  },
  {
   "cell_type": "code",
   "execution_count": 26,
   "metadata": {},
   "outputs": [
    {
     "data": {
      "text/plain": [
       "(1000, 19)"
      ]
     },
     "execution_count": 26,
     "metadata": {},
     "output_type": "execute_result"
    }
   ],
   "source": [
    "X.shape"
   ]
  },
  {
   "cell_type": "markdown",
   "metadata": {},
   "source": [
    "# Splitting into train test split\n"
   ]
  },
  {
   "cell_type": "code",
   "execution_count": 27,
   "metadata": {},
   "outputs": [
    {
     "name": "stdout",
     "output_type": "stream",
     "text": [
      "(800, 19)\n",
      "(200, 19)\n"
     ]
    }
   ],
   "source": [
    "from sklearn.model_selection import train_test_split\n",
    "X_train,X_test ,Y_train,Y_test = train_test_split(X,Y,test_size=0.2,random_state=42)\n",
    "print(X_train.shape)\n",
    "print(X_test.shape)"
   ]
  },
  {
   "cell_type": "markdown",
   "metadata": {},
   "source": [
    "# Creating a Evaluation fucntion to test all the models on test and training data"
   ]
  },
  {
   "cell_type": "code",
   "execution_count": 31,
   "metadata": {},
   "outputs": [],
   "source": [
    "def evaluated_model(true,predicted):\n",
    "    mae = mean_absolute_error(true,predicted)\n",
    "    mse=mean_squared_error(true, predicted)\n",
    "    rmse = np.sqrt(mean_squared_error(true,predicted))\n",
    "    r2_square = r2_score(true,predicted)\n",
    "    return mae,rmse,r2_square"
   ]
  },
  {
   "cell_type": "code",
   "execution_count": 35,
   "metadata": {},
   "outputs": [
    {
     "name": "stdout",
     "output_type": "stream",
     "text": [
      "LinearRegression\n",
      "Model Performance for Training Data set\n",
      "-- Root Mean Squared error:5.3243\n",
      "--  Mean Absolute  error:4.2671\n",
      "--  R2_score:0.8743\n",
      "--------------------------------------\n",
      "Model Performance for Testing Data set\n",
      "-- Root Mean Squared error:5.3960\n",
      "--  Mean Absolute  error:4.2158\n",
      "--  R2_score:0.8803\n",
      "========================================\n",
      "\n",
      "\n",
      "Lasso\n",
      "Model Performance for Training Data set\n",
      "-- Root Mean Squared error:6.5938\n",
      "--  Mean Absolute  error:5.2063\n",
      "--  R2_score:0.8071\n",
      "--------------------------------------\n",
      "Model Performance for Testing Data set\n",
      "-- Root Mean Squared error:6.5197\n",
      "--  Mean Absolute  error:5.1579\n",
      "--  R2_score:0.8253\n",
      "========================================\n",
      "\n",
      "\n",
      "Ridge\n",
      "Model Performance for Training Data set\n",
      "-- Root Mean Squared error:5.3233\n",
      "--  Mean Absolute  error:4.2650\n",
      "--  R2_score:0.8743\n",
      "--------------------------------------\n",
      "Model Performance for Testing Data set\n",
      "-- Root Mean Squared error:5.3904\n",
      "--  Mean Absolute  error:4.2111\n",
      "--  R2_score:0.8806\n",
      "========================================\n",
      "\n",
      "\n",
      "KNeighborsRegressor\n",
      "Model Performance for Training Data set\n",
      "-- Root Mean Squared error:5.7077\n",
      "--  Mean Absolute  error:4.5167\n",
      "--  R2_score:0.8555\n",
      "--------------------------------------\n",
      "Model Performance for Testing Data set\n",
      "-- Root Mean Squared error:7.2530\n",
      "--  Mean Absolute  error:5.6210\n",
      "--  R2_score:0.7838\n",
      "========================================\n",
      "\n",
      "\n",
      "DecisionTreeRegressor\n",
      "Model Performance for Training Data set\n",
      "-- Root Mean Squared error:0.2795\n",
      "--  Mean Absolute  error:0.0187\n",
      "--  R2_score:0.9997\n",
      "--------------------------------------\n",
      "Model Performance for Testing Data set\n",
      "-- Root Mean Squared error:8.1443\n",
      "--  Mean Absolute  error:6.4200\n",
      "--  R2_score:0.7274\n",
      "========================================\n",
      "\n",
      "\n",
      "RandomForestRegressor\n",
      "Model Performance for Training Data set\n",
      "-- Root Mean Squared error:2.3052\n",
      "--  Mean Absolute  error:1.8293\n",
      "--  R2_score:0.9764\n",
      "--------------------------------------\n",
      "Model Performance for Testing Data set\n",
      "-- Root Mean Squared error:6.0651\n",
      "--  Mean Absolute  error:4.6759\n",
      "--  R2_score:0.8488\n",
      "========================================\n",
      "\n",
      "\n",
      "XGBRegressor\n",
      "Model Performance for Training Data set\n",
      "-- Root Mean Squared error:0.9087\n",
      "--  Mean Absolute  error:0.6148\n",
      "--  R2_score:0.9963\n",
      "--------------------------------------\n",
      "Model Performance for Testing Data set\n",
      "-- Root Mean Squared error:6.5889\n",
      "--  Mean Absolute  error:5.0844\n",
      "--  R2_score:0.8216\n",
      "========================================\n",
      "\n",
      "\n",
      "AdaBoostRegressor\n",
      "Model Performance for Training Data set\n",
      "-- Root Mean Squared error:5.7775\n",
      "--  Mean Absolute  error:4.7307\n",
      "--  R2_score:0.8519\n",
      "--------------------------------------\n",
      "Model Performance for Testing Data set\n",
      "-- Root Mean Squared error:6.1133\n",
      "--  Mean Absolute  error:4.8182\n",
      "--  R2_score:0.8464\n",
      "========================================\n",
      "\n",
      "\n",
      "CatBoostRegressor\n",
      "Model Performance for Training Data set\n",
      "-- Root Mean Squared error:3.0427\n",
      "--  Mean Absolute  error:2.4054\n",
      "--  R2_score:0.9589\n",
      "--------------------------------------\n",
      "Model Performance for Testing Data set\n",
      "-- Root Mean Squared error:6.0086\n",
      "--  Mean Absolute  error:4.6125\n",
      "--  R2_score:0.8516\n",
      "========================================\n",
      "\n",
      "\n"
     ]
    }
   ],
   "source": [
    "models = {\n",
    "    \"LinearRegression\":LinearRegression(),\n",
    "    \"Lasso\":Lasso(),\n",
    "    \"Ridge\":Ridge(),\n",
    "    \"KNeighborsRegressor\":KNeighborsRegressor(),\n",
    "    \"DecisionTreeRegressor\":DecisionTreeRegressor(),\n",
    "    \"RandomForestRegressor\":RandomForestRegressor(),\n",
    "    \"XGBRegressor\":XGBRegressor(),\n",
    "    \"AdaBoostRegressor\":AdaBoostRegressor(),\n",
    "    \"CatBoostRegressor\":CatBoostRegressor(verbose=False)\n",
    "}\n",
    "\n",
    "model_list = []\n",
    "r2_list = []\n",
    "\n",
    "\n",
    "for i in range(len(list(models))):\n",
    "    model =list(models.values())[i]\n",
    "    model.fit(X_train, Y_train)  # training the model\n",
    "\n",
    "    #predictions\n",
    " # predictions\n",
    "    y_train_pred = model.predict(X_train)\n",
    "    y_test_pred = model.predict(X_test)\n",
    "\n",
    "\n",
    "\n",
    "    #evaluate train and test dataset\n",
    "\n",
    "    model_train_mae , model_train_rmse ,model_train_r2 = evaluated_model(Y_train,y_train_pred)\n",
    "    model_test_mae , model_test_rmse ,model_test_r2 = evaluated_model(Y_test,y_test_pred)\n",
    "\n",
    "    print(list(models.keys())[i])\n",
    "    model_list.append(list(models.keys())[i])\n",
    "\n",
    "    print(\"Model Performance for Training Data set\")\n",
    "    print(\"-- Root Mean Squared error:{:.4f}\".format(model_train_rmse))\n",
    "    print(\"--  Mean Absolute  error:{:.4f}\".format(model_train_mae))\n",
    "    print(\"--  R2_score:{:.4f}\".format(model_train_r2))\n",
    "\n",
    "    print(\"--------------------------------------\")\n",
    "\n",
    "\n",
    "    \n",
    "    print(\"Model Performance for Testing Data set\")\n",
    "    print(\"-- Root Mean Squared error:{:.4f}\".format(model_test_rmse))\n",
    "    print(\"--  Mean Absolute  error:{:.4f}\".format(model_test_mae))\n",
    "    print(\"--  R2_score:{:.4f}\".format(model_test_r2))\n",
    "\n",
    "    \n",
    "    r2_list.append(model_test_r2)\n",
    "\n",
    "\n",
    "    print('='*40)\n",
    "    print(\"\\n\")\n",
    "\n",
    "\n",
    "\n"
   ]
  },
  {
   "cell_type": "markdown",
   "metadata": {},
   "source": []
  },
  {
   "cell_type": "markdown",
   "metadata": {},
   "source": [
    "# Results"
   ]
  },
  {
   "cell_type": "code",
   "execution_count": 36,
   "metadata": {},
   "outputs": [
    {
     "data": {
      "text/html": [
       "<div>\n",
       "<style scoped>\n",
       "    .dataframe tbody tr th:only-of-type {\n",
       "        vertical-align: middle;\n",
       "    }\n",
       "\n",
       "    .dataframe tbody tr th {\n",
       "        vertical-align: top;\n",
       "    }\n",
       "\n",
       "    .dataframe thead th {\n",
       "        text-align: right;\n",
       "    }\n",
       "</style>\n",
       "<table border=\"1\" class=\"dataframe\">\n",
       "  <thead>\n",
       "    <tr style=\"text-align: right;\">\n",
       "      <th></th>\n",
       "      <th>Model_name</th>\n",
       "      <th>R2_score</th>\n",
       "    </tr>\n",
       "  </thead>\n",
       "  <tbody>\n",
       "    <tr>\n",
       "      <th>2</th>\n",
       "      <td>Ridge</td>\n",
       "      <td>0.880593</td>\n",
       "    </tr>\n",
       "    <tr>\n",
       "      <th>0</th>\n",
       "      <td>LinearRegression</td>\n",
       "      <td>0.880345</td>\n",
       "    </tr>\n",
       "    <tr>\n",
       "      <th>8</th>\n",
       "      <td>CatBoostRegressor</td>\n",
       "      <td>0.851632</td>\n",
       "    </tr>\n",
       "    <tr>\n",
       "      <th>5</th>\n",
       "      <td>RandomForestRegressor</td>\n",
       "      <td>0.848829</td>\n",
       "    </tr>\n",
       "    <tr>\n",
       "      <th>7</th>\n",
       "      <td>AdaBoostRegressor</td>\n",
       "      <td>0.846419</td>\n",
       "    </tr>\n",
       "    <tr>\n",
       "      <th>1</th>\n",
       "      <td>Lasso</td>\n",
       "      <td>0.825320</td>\n",
       "    </tr>\n",
       "    <tr>\n",
       "      <th>6</th>\n",
       "      <td>XGBRegressor</td>\n",
       "      <td>0.821589</td>\n",
       "    </tr>\n",
       "    <tr>\n",
       "      <th>3</th>\n",
       "      <td>KNeighborsRegressor</td>\n",
       "      <td>0.783813</td>\n",
       "    </tr>\n",
       "    <tr>\n",
       "      <th>4</th>\n",
       "      <td>DecisionTreeRegressor</td>\n",
       "      <td>0.727417</td>\n",
       "    </tr>\n",
       "  </tbody>\n",
       "</table>\n",
       "</div>"
      ],
      "text/plain": [
       "              Model_name  R2_score\n",
       "2                  Ridge  0.880593\n",
       "0       LinearRegression  0.880345\n",
       "8      CatBoostRegressor  0.851632\n",
       "5  RandomForestRegressor  0.848829\n",
       "7      AdaBoostRegressor  0.846419\n",
       "1                  Lasso  0.825320\n",
       "6           XGBRegressor  0.821589\n",
       "3    KNeighborsRegressor  0.783813\n",
       "4  DecisionTreeRegressor  0.727417"
      ]
     },
     "execution_count": 36,
     "metadata": {},
     "output_type": "execute_result"
    }
   ],
   "source": [
    "pd.DataFrame(list(zip(model_list,r2_list)),columns=[\"Model_name\",\"R2_score\"]).sort_values(by=['R2_score'],ascending=False)"
   ]
  },
  {
   "cell_type": "code",
   "execution_count": 37,
   "metadata": {},
   "outputs": [
    {
     "name": "stdout",
     "output_type": "stream",
     "text": [
      "Accuracy of the model is 88.03\n"
     ]
    }
   ],
   "source": [
    "# We are planning to proceed with linear Regression as all\n",
    "\n",
    "lin_model = LinearRegression(fit_intercept=True)\n",
    "lin_model = lin_model.fit(X_train ,Y_train)\n",
    "Y_pred = lin_model.predict(X_test)\n",
    "score = r2_score(Y_test,Y_pred)*100\n",
    "print(\"Accuracy of the model is %.2f\" %score)"
   ]
  },
  {
   "cell_type": "code",
   "execution_count": 39,
   "metadata": {},
   "outputs": [
    {
     "data": {
      "image/png": "[encoded data removed]",
      "text/plain": [
       "<Figure size 640x480 with 1 Axes>"
      ]
     },
     "metadata": {},
     "output_type": "display_data"
    }
   ],
   "source": [
    "# plot Y_pred and y_test\n",
    "\n",
    "plt.scatter(Y_test,Y_pred);\n",
    "plt.xlabel(\"Actual\");\n",
    "plt.ylabel(\"Prdicted\");"
   ]
  },
  {
   "cell_type": "code",
   "execution_count": 40,
   "metadata": {},
   "outputs": [
    {
     "data": {
      "image/png": "[encoded data removed]",
      "text/plain": [
       "<Figure size 640x480 with 1 Axes>"
      ]
     },
     "metadata": {},
     "output_type": "display_data"
    }
   ],
   "source": [
    "sns.regplot(x=Y_test,y=Y_pred,ci=None,color='red');"
   ]
  },
  {
   "cell_type": "code",
   "execution_count": 42,
   "metadata": {},
   "outputs": [
    {
     "data": {
      "text/html": [
       "<div>\n",
       "<style scoped>\n",
       "    .dataframe tbody tr th:only-of-type {\n",
       "        vertical-align: middle;\n",
       "    }\n",
       "\n",
       "    .dataframe tbody tr th {\n",
       "        vertical-align: top;\n",
       "    }\n",
       "\n",
       "    .dataframe thead th {\n",
       "        text-align: right;\n",
       "    }\n",
       "</style>\n",
       "<table border=\"1\" class=\"dataframe\">\n",
       "  <thead>\n",
       "    <tr style=\"text-align: right;\">\n",
       "      <th></th>\n",
       "      <th>Actual Value</th>\n",
       "      <th>Predicted_value</th>\n",
       "      <th>Difference</th>\n",
       "    </tr>\n",
       "  </thead>\n",
       "  <tbody>\n",
       "    <tr>\n",
       "      <th>521</th>\n",
       "      <td>91</td>\n",
       "      <td>74.709499</td>\n",
       "      <td>14.492188</td>\n",
       "    </tr>\n",
       "    <tr>\n",
       "      <th>737</th>\n",
       "      <td>53</td>\n",
       "      <td>54.706876</td>\n",
       "      <td>-5.953125</td>\n",
       "    </tr>\n",
       "    <tr>\n",
       "      <th>740</th>\n",
       "      <td>80</td>\n",
       "      <td>76.842097</td>\n",
       "      <td>3.039062</td>\n",
       "    </tr>\n",
       "    <tr>\n",
       "      <th>660</th>\n",
       "      <td>74</td>\n",
       "      <td>76.580288</td>\n",
       "      <td>-2.757812</td>\n",
       "    </tr>\n",
       "    <tr>\n",
       "      <th>411</th>\n",
       "      <td>84</td>\n",
       "      <td>87.297491</td>\n",
       "      <td>-3.539062</td>\n",
       "    </tr>\n",
       "    <tr>\n",
       "      <th>...</th>\n",
       "      <td>...</td>\n",
       "      <td>...</td>\n",
       "      <td>...</td>\n",
       "    </tr>\n",
       "    <tr>\n",
       "      <th>408</th>\n",
       "      <td>52</td>\n",
       "      <td>47.095579</td>\n",
       "      <td>8.453125</td>\n",
       "    </tr>\n",
       "    <tr>\n",
       "      <th>332</th>\n",
       "      <td>62</td>\n",
       "      <td>58.745708</td>\n",
       "      <td>-0.031250</td>\n",
       "    </tr>\n",
       "    <tr>\n",
       "      <th>208</th>\n",
       "      <td>74</td>\n",
       "      <td>69.989700</td>\n",
       "      <td>6.023438</td>\n",
       "    </tr>\n",
       "    <tr>\n",
       "      <th>613</th>\n",
       "      <td>65</td>\n",
       "      <td>68.313052</td>\n",
       "      <td>-2.132812</td>\n",
       "    </tr>\n",
       "    <tr>\n",
       "      <th>78</th>\n",
       "      <td>61</td>\n",
       "      <td>64.850643</td>\n",
       "      <td>-1.492188</td>\n",
       "    </tr>\n",
       "  </tbody>\n",
       "</table>\n",
       "<p>200 rows × 3 columns</p>\n",
       "</div>"
      ],
      "text/plain": [
       "     Actual Value  Predicted_value  Difference\n",
       "521            91        74.709499   14.492188\n",
       "737            53        54.706876   -5.953125\n",
       "740            80        76.842097    3.039062\n",
       "660            74        76.580288   -2.757812\n",
       "411            84        87.297491   -3.539062\n",
       "..            ...              ...         ...\n",
       "408            52        47.095579    8.453125\n",
       "332            62        58.745708   -0.031250\n",
       "208            74        69.989700    6.023438\n",
       "613            65        68.313052   -2.132812\n",
       "78             61        64.850643   -1.492188\n",
       "\n",
       "[200 rows x 3 columns]"
      ]
     },
     "execution_count": 42,
     "metadata": {},
     "output_type": "execute_result"
    }
   ],
   "source": [
    "# Differnce between Actual and Predicted Values:\n",
    "pred_df = pd.DataFrame({'Actual Value':Y_test,'Predicted_value':y_test_pred,'Difference':Y_test-Y_pred})\n",
    "pred_df"
   ]
  },
  {
   "cell_type": "code",
   "execution_count": null,
   "metadata": {},
   "outputs": [],
   "source": []
  }
 ],
 "metadata": {
  "kernelspec": {
   "display_name": "venv",
   "language": "python",
   "name": "python3"
  },
  "language_info": {
   "codemirror_mode": {
    "name": "ipython",
    "version": 3
   },
   "file_extension": ".py",
   "mimetype": "text/x-python",
   "name": "python",
   "nbconvert_exporter": "python",
   "pygments_lexer": "ipython3",
   "version": "3.10.6"
  },
  "orig_nbformat": 4
 },
 "nbformat": 4,
 "nbformat_minor": 2
}
