{
 "cells": [
  {
   "attachments": {},
   "cell_type": "markdown",
   "metadata": {},
   "source": [
    "# Student Performance Indicator\n",
    "    Life cycle of the machine Learning Project\n",
    "        1) Understanding the problem statement\n",
    "        2) Data collection\n",
    "        3) Data checks to perform\n",
    "        4) Exploratory Data analysis\n",
    "        5) Model Training\n",
    "        6) Choosing the best model\n"
   ]
  },
  {
   "attachments": {},
   "cell_type": "markdown",
   "metadata": {},
   "source": [
    "# 1) Understanding the Problem statement\n",
    "         This project is to understand how a students performance is graded or affected by Gender , Race ,Ethicinity , Parental Education\n",
    "            lunch and Test Prep"
   ]
  },
  {
   "attachments": {},
   "cell_type": "markdown",
   "metadata": {},
   "source": [
    "# 2) The data is collected from kaggle  and it consists of 8 columns and 1000 rows"
   ]
  },
  {
   "attachments": {},
   "cell_type": "markdown",
   "metadata": {},
   "source": [
    "# 3) Package importing"
   ]
  },
  {
   "cell_type": "code",
   "execution_count": 15,
   "metadata": {},
   "outputs": [],
   "source": [
    "import pandas as pd\n",
    "import numpy as np\n",
    "import matplotlib.pyplot as plt\n",
    "%matplotlib inline\n",
    "import seaborn as sns\n",
    "import warnings\n",
    "warnings.filterwarnings(\"ignore\")\n",
    "from collections import OrderedDict"
   ]
  },
  {
   "attachments": {},
   "cell_type": "markdown",
   "metadata": {},
   "source": [
    "# read The data"
   ]
  },
  {
   "cell_type": "code",
   "execution_count": 5,
   "metadata": {},
   "outputs": [],
   "source": [
    "df = pd.read_csv(\"Data\\StudentsPerformance.csv\")"
   ]
  },
  {
   "attachments": {},
   "cell_type": "markdown",
   "metadata": {},
   "source": [
    "# top 5 rows"
   ]
  },
  {
   "cell_type": "code",
   "execution_count": 6,
   "metadata": {},
   "outputs": [
    {
     "data": {
      "text/html": [
       "<div>\n",
       "<style scoped>\n",
       "    .dataframe tbody tr th:only-of-type {\n",
       "        vertical-align: middle;\n",
       "    }\n",
       "\n",
       "    .dataframe tbody tr th {\n",
       "        vertical-align: top;\n",
       "    }\n",
       "\n",
       "    .dataframe thead th {\n",
       "        text-align: right;\n",
       "    }\n",
       "</style>\n",
       "<table border=\"1\" class=\"dataframe\">\n",
       "  <thead>\n",
       "    <tr style=\"text-align: right;\">\n",
       "      <th></th>\n",
       "      <th>gender</th>\n",
       "      <th>race/ethnicity</th>\n",
       "      <th>parental level of education</th>\n",
       "      <th>lunch</th>\n",
       "      <th>test preparation course</th>\n",
       "      <th>math score</th>\n",
       "      <th>reading score</th>\n",
       "      <th>writing score</th>\n",
       "    </tr>\n",
       "  </thead>\n",
       "  <tbody>\n",
       "    <tr>\n",
       "      <th>0</th>\n",
       "      <td>female</td>\n",
       "      <td>group B</td>\n",
       "      <td>bachelor's degree</td>\n",
       "      <td>standard</td>\n",
       "      <td>none</td>\n",
       "      <td>72</td>\n",
       "      <td>72</td>\n",
       "      <td>74</td>\n",
       "    </tr>\n",
       "    <tr>\n",
       "      <th>1</th>\n",
       "      <td>female</td>\n",
       "      <td>group C</td>\n",
       "      <td>some college</td>\n",
       "      <td>standard</td>\n",
       "      <td>completed</td>\n",
       "      <td>69</td>\n",
       "      <td>90</td>\n",
       "      <td>88</td>\n",
       "    </tr>\n",
       "    <tr>\n",
       "      <th>2</th>\n",
       "      <td>female</td>\n",
       "      <td>group B</td>\n",
       "      <td>master's degree</td>\n",
       "      <td>standard</td>\n",
       "      <td>none</td>\n",
       "      <td>90</td>\n",
       "      <td>95</td>\n",
       "      <td>93</td>\n",
       "    </tr>\n",
       "    <tr>\n",
       "      <th>3</th>\n",
       "      <td>male</td>\n",
       "      <td>group A</td>\n",
       "      <td>associate's degree</td>\n",
       "      <td>free/reduced</td>\n",
       "      <td>none</td>\n",
       "      <td>47</td>\n",
       "      <td>57</td>\n",
       "      <td>44</td>\n",
       "    </tr>\n",
       "    <tr>\n",
       "      <th>4</th>\n",
       "      <td>male</td>\n",
       "      <td>group C</td>\n",
       "      <td>some college</td>\n",
       "      <td>standard</td>\n",
       "      <td>none</td>\n",
       "      <td>76</td>\n",
       "      <td>78</td>\n",
       "      <td>75</td>\n",
       "    </tr>\n",
       "  </tbody>\n",
       "</table>\n",
       "</div>"
      ],
      "text/plain": [
       "   gender race/ethnicity parental level of education         lunch  \\\n",
       "0  female        group B           bachelor's degree      standard   \n",
       "1  female        group C                some college      standard   \n",
       "2  female        group B             master's degree      standard   \n",
       "3    male        group A          associate's degree  free/reduced   \n",
       "4    male        group C                some college      standard   \n",
       "\n",
       "  test preparation course  math score  reading score  writing score  \n",
       "0                    none          72             72             74  \n",
       "1               completed          69             90             88  \n",
       "2                    none          90             95             93  \n",
       "3                    none          47             57             44  \n",
       "4                    none          76             78             75  "
      ]
     },
     "execution_count": 6,
     "metadata": {},
     "output_type": "execute_result"
    }
   ],
   "source": [
    "df.head()"
   ]
  },
  {
   "attachments": {},
   "cell_type": "markdown",
   "metadata": {},
   "source": [
    "# Shape of the Dataset"
   ]
  },
  {
   "cell_type": "code",
   "execution_count": 7,
   "metadata": {},
   "outputs": [
    {
     "data": {
      "text/plain": [
       "(1000, 8)"
      ]
     },
     "execution_count": 7,
     "metadata": {},
     "output_type": "execute_result"
    }
   ],
   "source": [
    "df.shape"
   ]
  },
  {
   "attachments": {},
   "cell_type": "markdown",
   "metadata": {},
   "source": [
    "# Data information\n",
    "    \n",
    "\n",
    "    gender : sex of students -> (Male/female)\n",
    "    race/ethnicity : ethnicity of students -> (Group A, B,C, D,E)\n",
    "    parental level of education : parents' final education ->(bachelor's degree,some college,master's degree,associate's degree,high school)\n",
    "    lunch : having lunch before test (standard or free/reduced)\n",
    "    test preparation course : complete or not complete before test\n",
    "    math score\n",
    "    reading score\n",
    "    writing score\n",
    "\n"
   ]
  },
  {
   "attachments": {},
   "cell_type": "markdown",
   "metadata": {},
   "source": [
    "# Data checks to perform\n",
    "    \n",
    "    Check Missing values\n",
    "    Check Duplicates\n",
    "    Check data type\n",
    "    Check the number of unique values of each column\n",
    "    Check statistics of data set\n",
    "    Check various categories present in the different categorical column\n"
   ]
  },
  {
   "attachments": {},
   "cell_type": "markdown",
   "metadata": {},
   "source": [
    "# Check the missing values"
   ]
  },
  {
   "cell_type": "code",
   "execution_count": 8,
   "metadata": {},
   "outputs": [
    {
     "data": {
      "text/plain": [
       "gender                         0\n",
       "race/ethnicity                 0\n",
       "parental level of education    0\n",
       "lunch                          0\n",
       "test preparation course        0\n",
       "math score                     0\n",
       "reading score                  0\n",
       "writing score                  0\n",
       "dtype: int64"
      ]
     },
     "execution_count": 8,
     "metadata": {},
     "output_type": "execute_result"
    }
   ],
   "source": [
    "df.isna().sum()"
   ]
  },
  {
   "attachments": {},
   "cell_type": "markdown",
   "metadata": {},
   "source": [
    "There are no missing values"
   ]
  },
  {
   "attachments": {},
   "cell_type": "markdown",
   "metadata": {},
   "source": [
    "# Check for  duplicates"
   ]
  },
  {
   "cell_type": "code",
   "execution_count": 9,
   "metadata": {},
   "outputs": [
    {
     "data": {
      "text/plain": [
       "0"
      ]
     },
     "execution_count": 9,
     "metadata": {},
     "output_type": "execute_result"
    }
   ],
   "source": [
    "df.duplicated().sum()"
   ]
  },
  {
   "attachments": {},
   "cell_type": "markdown",
   "metadata": {},
   "source": [
    "There are no duplicate values"
   ]
  },
  {
   "attachments": {},
   "cell_type": "markdown",
   "metadata": {},
   "source": [
    "# Check the data types"
   ]
  },
  {
   "cell_type": "code",
   "execution_count": 13,
   "metadata": {},
   "outputs": [
    {
     "name": "stdout",
     "output_type": "stream",
     "text": [
      "<class 'pandas.core.frame.DataFrame'>\n",
      "RangeIndex: 1000 entries, 0 to 999\n",
      "Data columns (total 8 columns):\n",
      " #   Column                       Non-Null Count  Dtype \n",
      "---  ------                       --------------  ----- \n",
      " 0   gender                       1000 non-null   object\n",
      " 1   race/ethnicity               1000 non-null   object\n",
      " 2   parental level of education  1000 non-null   object\n",
      " 3   lunch                        1000 non-null   object\n",
      " 4   test preparation course      1000 non-null   object\n",
      " 5   math score                   1000 non-null   int64 \n",
      " 6   reading score                1000 non-null   int64 \n",
      " 7   writing score                1000 non-null   int64 \n",
      "dtypes: int64(3), object(5)\n",
      "memory usage: 62.6+ KB\n"
     ]
    }
   ],
   "source": [
    "df.info()"
   ]
  },
  {
   "attachments": {},
   "cell_type": "markdown",
   "metadata": {},
   "source": [
    "# Checking the number of unique values in each column\n"
   ]
  },
  {
   "cell_type": "code",
   "execution_count": 14,
   "metadata": {},
   "outputs": [
    {
     "data": {
      "text/plain": [
       "gender                          2\n",
       "race/ethnicity                  5\n",
       "parental level of education     6\n",
       "lunch                           2\n",
       "test preparation course         2\n",
       "math score                     81\n",
       "reading score                  72\n",
       "writing score                  77\n",
       "dtype: int64"
      ]
     },
     "execution_count": 14,
     "metadata": {},
     "output_type": "execute_result"
    }
   ],
   "source": [
    "df.nunique()"
   ]
  },
  {
   "cell_type": "code",
   "execution_count": null,
   "metadata": {},
   "outputs": [],
   "source": []
  },
  {
   "attachments": {},
   "cell_type": "markdown",
   "metadata": {},
   "source": [
    "# check the statistics of the data\n",
    "    creating a custom fucntion for the descriptive statistics"
   ]
  },
  {
   "cell_type": "code",
   "execution_count": 16,
   "metadata": {},
   "outputs": [],
   "source": [
    "def custom_summary(df): #parameters?? df = dataframe original data of mtcars\n",
    "    \n",
    "    result = []\n",
    "    \n",
    "    for col in df.columns:\n",
    "        \n",
    "        if df[col].dtype != 'O':\n",
    "        \n",
    "            stats = OrderedDict ({\n",
    "                'Feature_Name' : col,\n",
    "                'Count':df[col].count(),\n",
    "                'Minimum':df[col].min(),\n",
    "                'Quarter 1':df[col].quantile(0.25), \n",
    "                \"Mean\":df[col].mean(),\n",
    "                'Median':df[col].median(),\n",
    "                'Quarter 3':df[col].quantile(0.75),\n",
    "                'Maximum':df[col].max(),\n",
    "                \"Variance\":df[col].var(),\n",
    "                'Standard Deviation':df[col].std(),\n",
    "                \"Kurtosis\":df[col].kurt(),\n",
    "                'Skewness':df[col].skew() ,\n",
    "                'IQR':df[col].quantile(0.75) - df[col].quantile(0.25)\n",
    "            })\n",
    "            \n",
    "            result.append(stats)\n",
    "        \n",
    "        \n",
    "    result_df = pd.DataFrame(result)\n",
    "    \n",
    "    skewtype =[]\n",
    "    \n",
    "    for i in result_df['Skewness']:\n",
    "        if i<=-1:\n",
    "            skewtype.append('Highly Negatively Skewed')\n",
    "        elif i<= -0.5:\n",
    "            skewtype.append('Moderately Negatively Skewed')\n",
    "        elif -0.5 < i < 0 :\n",
    "            skewtype.append('Approx Normal Distribution (-ve)')\n",
    "        elif 0 <= i < 0.5:\n",
    "            skewtype.append('Approx Normal Distribution (+ve)')\n",
    "        elif 0.5<= i < 1:\n",
    "            skewtype.append('Moderately Positively Skewed')\n",
    "        elif i >= 1:\n",
    "            skewtype.append('Highly Positively Skewed')\n",
    "    \n",
    "    result_df['Skew_Type'] = skewtype\n",
    "    \n",
    "    k_type = []\n",
    "    \n",
    "    for i in result_df['Kurtosis']:\n",
    "        if i <=  -1:\n",
    "            k_type.append('Highly Platykurtic Curve')\n",
    "        elif -1 < i <= -0.5:#-.9 to .9\n",
    "            k_type.append('Moderately Platykurtic Curve')\n",
    "        elif -0.5 < i <= 0.5: #-1,-2,-3...\n",
    "            k_type.append('Mesokurtic Curve')\n",
    "        elif 0.5<= i < 1:\n",
    "            k_type.append('Moderately Leptokurtic Curve')\n",
    "        elif i >= 1:\n",
    "            k_type.append('Highly Leptokurtic Curve')\n",
    "            \n",
    "        \n",
    "    \n",
    "    result_df['Kurtosis_Type'] = k_type\n",
    "    \n",
    "    \n",
    "    #Outlier detection\n",
    "    \n",
    "\n",
    "    Upper_limit = stats['Quarter 3'] + 1.5*stats['IQR']\n",
    "    \n",
    "    lower_limit = stats['Quarter 1'] -1.5*stats['IQR']\n",
    "    \n",
    "    if len([x for x in df[col] if (x < lower_limit) or (x > Upper_limit)]) > 0:\n",
    "        \n",
    "        outlier_comment = 'has outliers'\n",
    "        outlier_percentage = len([x for x in df[col] if (x < lower_limit) or (x > Upper_limit)])/len(df)\n",
    "    else:\n",
    "        oulier_comment = 'no outliers'\n",
    "        \n",
    "        outlier_percentage = 0\n",
    "        \n",
    "    result_df['outlier_comment'] = outlier_comment\n",
    "    \n",
    "    result_df['outlier_percentage'] = outlier_percentage\n",
    "   \n",
    "    return result_df"
   ]
  },
  {
   "cell_type": "code",
   "execution_count": 17,
   "metadata": {},
   "outputs": [
    {
     "data": {
      "text/html": [
       "<div>\n",
       "<style scoped>\n",
       "    .dataframe tbody tr th:only-of-type {\n",
       "        vertical-align: middle;\n",
       "    }\n",
       "\n",
       "    .dataframe tbody tr th {\n",
       "        vertical-align: top;\n",
       "    }\n",
       "\n",
       "    .dataframe thead th {\n",
       "        text-align: right;\n",
       "    }\n",
       "</style>\n",
       "<table border=\"1\" class=\"dataframe\">\n",
       "  <thead>\n",
       "    <tr style=\"text-align: right;\">\n",
       "      <th></th>\n",
       "      <th>Feature_Name</th>\n",
       "      <th>Count</th>\n",
       "      <th>Minimum</th>\n",
       "      <th>Quarter 1</th>\n",
       "      <th>Mean</th>\n",
       "      <th>Median</th>\n",
       "      <th>Quarter 3</th>\n",
       "      <th>Maximum</th>\n",
       "      <th>Variance</th>\n",
       "      <th>Standard Deviation</th>\n",
       "      <th>Kurtosis</th>\n",
       "      <th>Skewness</th>\n",
       "      <th>IQR</th>\n",
       "      <th>Skew_Type</th>\n",
       "      <th>Kurtosis_Type</th>\n",
       "      <th>outlier_comment</th>\n",
       "      <th>outlier_percentage</th>\n",
       "    </tr>\n",
       "  </thead>\n",
       "  <tbody>\n",
       "    <tr>\n",
       "      <th>0</th>\n",
       "      <td>math score</td>\n",
       "      <td>1000</td>\n",
       "      <td>0</td>\n",
       "      <td>57.00</td>\n",
       "      <td>66.089</td>\n",
       "      <td>66.0</td>\n",
       "      <td>77.0</td>\n",
       "      <td>100</td>\n",
       "      <td>229.918998</td>\n",
       "      <td>15.163080</td>\n",
       "      <td>0.274964</td>\n",
       "      <td>-0.278935</td>\n",
       "      <td>20.00</td>\n",
       "      <td>Approx Normal Distribution (-ve)</td>\n",
       "      <td>Mesokurtic Curve</td>\n",
       "      <td>has outliers</td>\n",
       "      <td>0.005</td>\n",
       "    </tr>\n",
       "    <tr>\n",
       "      <th>1</th>\n",
       "      <td>reading score</td>\n",
       "      <td>1000</td>\n",
       "      <td>17</td>\n",
       "      <td>59.00</td>\n",
       "      <td>69.169</td>\n",
       "      <td>70.0</td>\n",
       "      <td>79.0</td>\n",
       "      <td>100</td>\n",
       "      <td>213.165605</td>\n",
       "      <td>14.600192</td>\n",
       "      <td>-0.068265</td>\n",
       "      <td>-0.259105</td>\n",
       "      <td>20.00</td>\n",
       "      <td>Approx Normal Distribution (-ve)</td>\n",
       "      <td>Mesokurtic Curve</td>\n",
       "      <td>has outliers</td>\n",
       "      <td>0.005</td>\n",
       "    </tr>\n",
       "    <tr>\n",
       "      <th>2</th>\n",
       "      <td>writing score</td>\n",
       "      <td>1000</td>\n",
       "      <td>10</td>\n",
       "      <td>57.75</td>\n",
       "      <td>68.054</td>\n",
       "      <td>69.0</td>\n",
       "      <td>79.0</td>\n",
       "      <td>100</td>\n",
       "      <td>230.907992</td>\n",
       "      <td>15.195657</td>\n",
       "      <td>-0.033365</td>\n",
       "      <td>-0.289444</td>\n",
       "      <td>21.25</td>\n",
       "      <td>Approx Normal Distribution (-ve)</td>\n",
       "      <td>Mesokurtic Curve</td>\n",
       "      <td>has outliers</td>\n",
       "      <td>0.005</td>\n",
       "    </tr>\n",
       "  </tbody>\n",
       "</table>\n",
       "</div>"
      ],
      "text/plain": [
       "    Feature_Name  Count  Minimum  Quarter 1    Mean  Median  Quarter 3  \\\n",
       "0     math score   1000        0      57.00  66.089    66.0       77.0   \n",
       "1  reading score   1000       17      59.00  69.169    70.0       79.0   \n",
       "2  writing score   1000       10      57.75  68.054    69.0       79.0   \n",
       "\n",
       "   Maximum    Variance  Standard Deviation  Kurtosis  Skewness    IQR  \\\n",
       "0      100  229.918998           15.163080  0.274964 -0.278935  20.00   \n",
       "1      100  213.165605           14.600192 -0.068265 -0.259105  20.00   \n",
       "2      100  230.907992           15.195657 -0.033365 -0.289444  21.25   \n",
       "\n",
       "                          Skew_Type     Kurtosis_Type outlier_comment  \\\n",
       "0  Approx Normal Distribution (-ve)  Mesokurtic Curve    has outliers   \n",
       "1  Approx Normal Distribution (-ve)  Mesokurtic Curve    has outliers   \n",
       "2  Approx Normal Distribution (-ve)  Mesokurtic Curve    has outliers   \n",
       "\n",
       "   outlier_percentage  \n",
       "0               0.005  \n",
       "1               0.005  \n",
       "2               0.005  "
      ]
     },
     "execution_count": 17,
     "metadata": {},
     "output_type": "execute_result"
    }
   ],
   "source": [
    "custom_summary(df)"
   ]
  },
  {
   "attachments": {},
   "cell_type": "markdown",
   "metadata": {},
   "source": [
    "1) The Data has very few outliers\n",
    "\n",
    "2) From above description of numerical data, all means are very close to each other - between 66 and 68.05;\n",
    "\n",
    "3) All standard deviations are also close - between 14.6 and 15.19;\n",
    "\n",
    "4) While there is a minimum score 0 for math, for writing minimum is much higher = 10 and for reading myet higher = 17\n",
    "\n"
   ]
  },
  {
   "attachments": {},
   "cell_type": "markdown",
   "metadata": {},
   "source": [
    "# Exploring the data"
   ]
  },
  {
   "cell_type": "code",
   "execution_count": 18,
   "metadata": {},
   "outputs": [
    {
     "data": {
      "text/html": [
       "<div>\n",
       "<style scoped>\n",
       "    .dataframe tbody tr th:only-of-type {\n",
       "        vertical-align: middle;\n",
       "    }\n",
       "\n",
       "    .dataframe tbody tr th {\n",
       "        vertical-align: top;\n",
       "    }\n",
       "\n",
       "    .dataframe thead th {\n",
       "        text-align: right;\n",
       "    }\n",
       "</style>\n",
       "<table border=\"1\" class=\"dataframe\">\n",
       "  <thead>\n",
       "    <tr style=\"text-align: right;\">\n",
       "      <th></th>\n",
       "      <th>gender</th>\n",
       "      <th>race/ethnicity</th>\n",
       "      <th>parental level of education</th>\n",
       "      <th>lunch</th>\n",
       "      <th>test preparation course</th>\n",
       "      <th>math score</th>\n",
       "      <th>reading score</th>\n",
       "      <th>writing score</th>\n",
       "    </tr>\n",
       "  </thead>\n",
       "  <tbody>\n",
       "    <tr>\n",
       "      <th>0</th>\n",
       "      <td>female</td>\n",
       "      <td>group B</td>\n",
       "      <td>bachelor's degree</td>\n",
       "      <td>standard</td>\n",
       "      <td>none</td>\n",
       "      <td>72</td>\n",
       "      <td>72</td>\n",
       "      <td>74</td>\n",
       "    </tr>\n",
       "    <tr>\n",
       "      <th>1</th>\n",
       "      <td>female</td>\n",
       "      <td>group C</td>\n",
       "      <td>some college</td>\n",
       "      <td>standard</td>\n",
       "      <td>completed</td>\n",
       "      <td>69</td>\n",
       "      <td>90</td>\n",
       "      <td>88</td>\n",
       "    </tr>\n",
       "    <tr>\n",
       "      <th>2</th>\n",
       "      <td>female</td>\n",
       "      <td>group B</td>\n",
       "      <td>master's degree</td>\n",
       "      <td>standard</td>\n",
       "      <td>none</td>\n",
       "      <td>90</td>\n",
       "      <td>95</td>\n",
       "      <td>93</td>\n",
       "    </tr>\n",
       "    <tr>\n",
       "      <th>3</th>\n",
       "      <td>male</td>\n",
       "      <td>group A</td>\n",
       "      <td>associate's degree</td>\n",
       "      <td>free/reduced</td>\n",
       "      <td>none</td>\n",
       "      <td>47</td>\n",
       "      <td>57</td>\n",
       "      <td>44</td>\n",
       "    </tr>\n",
       "    <tr>\n",
       "      <th>4</th>\n",
       "      <td>male</td>\n",
       "      <td>group C</td>\n",
       "      <td>some college</td>\n",
       "      <td>standard</td>\n",
       "      <td>none</td>\n",
       "      <td>76</td>\n",
       "      <td>78</td>\n",
       "      <td>75</td>\n",
       "    </tr>\n",
       "  </tbody>\n",
       "</table>\n",
       "</div>"
      ],
      "text/plain": [
       "   gender race/ethnicity parental level of education         lunch  \\\n",
       "0  female        group B           bachelor's degree      standard   \n",
       "1  female        group C                some college      standard   \n",
       "2  female        group B             master's degree      standard   \n",
       "3    male        group A          associate's degree  free/reduced   \n",
       "4    male        group C                some college      standard   \n",
       "\n",
       "  test preparation course  math score  reading score  writing score  \n",
       "0                    none          72             72             74  \n",
       "1               completed          69             90             88  \n",
       "2                    none          90             95             93  \n",
       "3                    none          47             57             44  \n",
       "4                    none          76             78             75  "
      ]
     },
     "execution_count": 18,
     "metadata": {},
     "output_type": "execute_result"
    }
   ],
   "source": [
    "df.head()"
   ]
  },
  {
   "cell_type": "code",
   "execution_count": 22,
   "metadata": {},
   "outputs": [
    {
     "name": "stdout",
     "output_type": "stream",
     "text": [
      "Categories under 'Gender' Variable:        ['female' 'male']\n",
      "Categories under 'Parental Level Eduation' Variable:        [\"bachelor's degree\" 'some college' \"master's degree\" \"associate's degree\"\n",
      " 'high school' 'some high school']\n",
      "Categories under 'race_ethnicity' Variable:        ['group B' 'group C' 'group A' 'group D' 'group E']\n",
      "Categories under 'lunch' Variable:        ['standard' 'free/reduced']\n",
      "Categories under 'test_prep_course' Variable:        ['none' 'completed']\n"
     ]
    }
   ],
   "source": [
    "# printing out the unique values in each of the columns\n",
    "\n",
    "print(\"Categories under 'Gender' Variable:        \",end=\"\")\n",
    "print(df['gender'].unique())\n",
    "\n",
    "print(\"Categories under 'Parental Level Eduation' Variable:        \",end=\"\")\n",
    "print(df['parental level of education'].unique())\n",
    "\n",
    "print(\"Categories under 'race_ethnicity' Variable:        \",end=\"\")\n",
    "print(df['race/ethnicity'].unique())\n",
    "\n",
    "print(\"Categories under 'lunch' Variable:        \",end=\"\")\n",
    "print(df['lunch'].unique())\n",
    "\n",
    "print(\"Categories under 'test_prep_course' Variable:        \",end=\"\")\n",
    "print(df['test preparation course'].unique())\n"
   ]
  },
  {
   "attachments": {},
   "cell_type": "markdown",
   "metadata": {},
   "source": [
    "# defining categoricaL and Numerical Features for the dataset"
   ]
  },
  {
   "cell_type": "code",
   "execution_count": 23,
   "metadata": {},
   "outputs": [
    {
     "name": "stdout",
     "output_type": "stream",
     "text": [
      " We have 3 numerical features namely :['math score', 'reading score', 'writing score']\n",
      " We have 5 Categorical features namely :['gender', 'race/ethnicity', 'parental level of education', 'lunch', 'test preparation course']\n"
     ]
    }
   ],
   "source": [
    "numerical_features = [feature for feature in df.columns if df[feature].dtype !='O']\n",
    "categorical_features = [feature for feature in df.columns if df[feature].dtype == 'O']\n",
    "\n",
    "\n",
    "print(\" We have {} numerical features namely :{}\".format(len(numerical_features),numerical_features))\n",
    "print(\" We have {} Categorical features namely :{}\".format(len(categorical_features),categorical_features))"
   ]
  },
  {
   "attachments": {},
   "cell_type": "markdown",
   "metadata": {},
   "source": [
    "# Adding extra columns for Total Score and \"Average\""
   ]
  },
  {
   "cell_type": "code",
   "execution_count": 24,
   "metadata": {},
   "outputs": [
    {
     "data": {
      "text/html": [
       "<div>\n",
       "<style scoped>\n",
       "    .dataframe tbody tr th:only-of-type {\n",
       "        vertical-align: middle;\n",
       "    }\n",
       "\n",
       "    .dataframe tbody tr th {\n",
       "        vertical-align: top;\n",
       "    }\n",
       "\n",
       "    .dataframe thead th {\n",
       "        text-align: right;\n",
       "    }\n",
       "</style>\n",
       "<table border=\"1\" class=\"dataframe\">\n",
       "  <thead>\n",
       "    <tr style=\"text-align: right;\">\n",
       "      <th></th>\n",
       "      <th>gender</th>\n",
       "      <th>race/ethnicity</th>\n",
       "      <th>parental level of education</th>\n",
       "      <th>lunch</th>\n",
       "      <th>test preparation course</th>\n",
       "      <th>math score</th>\n",
       "      <th>reading score</th>\n",
       "      <th>writing score</th>\n",
       "      <th>Total_Score</th>\n",
       "      <th>Average</th>\n",
       "    </tr>\n",
       "  </thead>\n",
       "  <tbody>\n",
       "    <tr>\n",
       "      <th>0</th>\n",
       "      <td>female</td>\n",
       "      <td>group B</td>\n",
       "      <td>bachelor's degree</td>\n",
       "      <td>standard</td>\n",
       "      <td>none</td>\n",
       "      <td>72</td>\n",
       "      <td>72</td>\n",
       "      <td>74</td>\n",
       "      <td>218</td>\n",
       "      <td>72.666667</td>\n",
       "    </tr>\n",
       "    <tr>\n",
       "      <th>1</th>\n",
       "      <td>female</td>\n",
       "      <td>group C</td>\n",
       "      <td>some college</td>\n",
       "      <td>standard</td>\n",
       "      <td>completed</td>\n",
       "      <td>69</td>\n",
       "      <td>90</td>\n",
       "      <td>88</td>\n",
       "      <td>247</td>\n",
       "      <td>82.333333</td>\n",
       "    </tr>\n",
       "    <tr>\n",
       "      <th>2</th>\n",
       "      <td>female</td>\n",
       "      <td>group B</td>\n",
       "      <td>master's degree</td>\n",
       "      <td>standard</td>\n",
       "      <td>none</td>\n",
       "      <td>90</td>\n",
       "      <td>95</td>\n",
       "      <td>93</td>\n",
       "      <td>278</td>\n",
       "      <td>92.666667</td>\n",
       "    </tr>\n",
       "    <tr>\n",
       "      <th>3</th>\n",
       "      <td>male</td>\n",
       "      <td>group A</td>\n",
       "      <td>associate's degree</td>\n",
       "      <td>free/reduced</td>\n",
       "      <td>none</td>\n",
       "      <td>47</td>\n",
       "      <td>57</td>\n",
       "      <td>44</td>\n",
       "      <td>148</td>\n",
       "      <td>49.333333</td>\n",
       "    </tr>\n",
       "    <tr>\n",
       "      <th>4</th>\n",
       "      <td>male</td>\n",
       "      <td>group C</td>\n",
       "      <td>some college</td>\n",
       "      <td>standard</td>\n",
       "      <td>none</td>\n",
       "      <td>76</td>\n",
       "      <td>78</td>\n",
       "      <td>75</td>\n",
       "      <td>229</td>\n",
       "      <td>76.333333</td>\n",
       "    </tr>\n",
       "  </tbody>\n",
       "</table>\n",
       "</div>"
      ],
      "text/plain": [
       "   gender race/ethnicity parental level of education         lunch  \\\n",
       "0  female        group B           bachelor's degree      standard   \n",
       "1  female        group C                some college      standard   \n",
       "2  female        group B             master's degree      standard   \n",
       "3    male        group A          associate's degree  free/reduced   \n",
       "4    male        group C                some college      standard   \n",
       "\n",
       "  test preparation course  math score  reading score  writing score  \\\n",
       "0                    none          72             72             74   \n",
       "1               completed          69             90             88   \n",
       "2                    none          90             95             93   \n",
       "3                    none          47             57             44   \n",
       "4                    none          76             78             75   \n",
       "\n",
       "   Total_Score    Average  \n",
       "0          218  72.666667  \n",
       "1          247  82.333333  \n",
       "2          278  92.666667  \n",
       "3          148  49.333333  \n",
       "4          229  76.333333  "
      ]
     },
     "execution_count": 24,
     "metadata": {},
     "output_type": "execute_result"
    }
   ],
   "source": [
    "df['Total_Score'] = df['math score'] + df['reading score'] + df['writing score']\n",
    "\n",
    "df[\"Average\"] = df[\"Total_Score\"]/3\n",
    "\n",
    "df.head()"
   ]
  },
  {
   "attachments": {},
   "cell_type": "markdown",
   "metadata": {},
   "source": [
    "# lets Try drawing certain information from the data we have received so far about the performance of students\n",
    "\n"
   ]
  },
  {
   "cell_type": "code",
   "execution_count": 27,
   "metadata": {},
   "outputs": [
    {
     "name": "stdout",
     "output_type": "stream",
     "text": [
      "The Number of students with full marks in maths:7\n",
      "The Number of students with full marks in Reading:17\n",
      "The Number of studets with full marks in Writing:14\n"
     ]
    }
   ],
   "source": [
    "reading_full = df[df[\"reading score\"]== 100]['Average'].count()\n",
    "writing_full = df[df[\"writing score\"]== 100]['Average'].count()\n",
    "math_full = df[df[\"math score\"]== 100]['Average'].count()\n",
    "\n",
    "\n",
    "\n",
    "print(f\"The Number of students with full marks in maths:{math_full}\")\n",
    "print(f\"The Number of students with full marks in Reading:{reading_full}\")\n",
    "print(f\"The Number of studets with full marks in Writing:{writing_full}\")"
   ]
  },
  {
   "attachments": {},
   "cell_type": "markdown",
   "metadata": {},
   "source": [
    "now lets the see the lowest performance among the students\n",
    "     lets consider the passing mark is 30\n"
   ]
  },
  {
   "cell_type": "code",
   "execution_count": 29,
   "metadata": {},
   "outputs": [
    {
     "name": "stdout",
     "output_type": "stream",
     "text": [
      "The number of students who failed to score good in maths :16\n",
      "The Number of students who failed to score good in reading :8\n",
      "The number of students who failed to score good marks in writing :10\n"
     ]
    }
   ],
   "source": [
    "maths_low = df[df['math score'] <= 30]['Average'].count()\n",
    "reading_low = df[df['reading score']<=30][\"Average\"].count()\n",
    "writing_low = df[df['writing score']<=30][\"Average\"].count()\n",
    "\n",
    "\n",
    "print(f\"The number of students who failed to score good in maths :{maths_low}\")\n",
    "print(f\"The Number of students who failed to score good in reading :{reading_low}\")\n",
    "print(f\"The number of students who failed to score good marks in writing :{writing_low}\")"
   ]
  },
  {
   "attachments": {},
   "cell_type": "markdown",
   "metadata": {},
   "source": [
    "# The conclusions drawn from the follwing details\n",
    "     1) Maths have been poorly performed by the students\n",
    "     2) Results are pretty much good in reading"
   ]
  },
  {
   "attachments": {},
   "cell_type": "markdown",
   "metadata": {},
   "source": []
  }
 ],
 "metadata": {
  "kernelspec": {
   "display_name": "venv",
   "language": "python",
   "name": "python3"
  },
  "language_info": {
   "codemirror_mode": {
    "name": "ipython",
    "version": 3
   },
   "file_extension": ".py",
   "mimetype": "text/x-python",
   "name": "python",
   "nbconvert_exporter": "python",
   "pygments_lexer": "ipython3",
   "version": "3.10.6"
  },
  "orig_nbformat": 4
 },
 "nbformat": 4,
 "nbformat_minor": 2
}
